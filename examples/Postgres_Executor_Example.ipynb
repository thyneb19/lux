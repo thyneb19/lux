{
 "cells": [
  {
   "cell_type": "code",
   "execution_count": null,
   "metadata": {},
   "outputs": [],
   "source": [
    "cd ../"
   ]
  },
  {
   "cell_type": "markdown",
   "metadata": {},
   "source": [
    "This demo requires that you have a local posgres SQL database already set up. If you have not done this yet, you can download the PostgreSQL installer here: https://www.postgresql.org/download/. Follow the instructions to get your database environment setup."
   ]
  },
  {
   "cell_type": "markdown",
   "metadata": {},
   "source": [
    "Once you have your PostgreSQL environment set up, you can upload the example [car dataset](https://github.com/lux-org/lux-datasets/blob/master/data/car.csv) to your database using the script found [here](https://github.com/thyneb19/lux/blob/Database-Executor/lux/data/upload_car_data.py)."
   ]
  },
  {
   "cell_type": "markdown",
   "metadata": {},
   "source": [
    "To connect Lux to your PostgreSQL database, you will first need to create a psycopg2 connection. After that you will be able to specify this connection in the Lux config, and connect a Lux DataFrame to a table as shown below."
   ]
  },
  {
   "cell_type": "code",
   "execution_count": null,
   "metadata": {},
   "outputs": [],
   "source": [
    "import lux\n",
    "import psycopg2\n",
    "import pandas as pd\n",
    "\n",
    "connection = psycopg2.connect(\"host=localhost dbname=postgres user=postgres password=lux\")\n",
    "\n",
    "sql_df = lux.LuxDataFrame()\n",
    "lux.config.set_SQL_connection(connection)\n",
    "sql_df.set_SQL_table(\"cars\")"
   ]
  },
  {
   "cell_type": "markdown",
   "metadata": {},
   "source": [
    "Once the Lux Dataframe has been connected to a database table, the parameters necessary to run Lux' recommendation system will automatically be populated."
   ]
  },
  {
   "cell_type": "code",
   "execution_count": null,
   "metadata": {},
   "outputs": [],
   "source": [
    "#you can view the variable datatypes here\n",
    "sql_df.data_type"
   ]
  },
  {
   "cell_type": "markdown",
   "metadata": {},
   "source": [
    "Now that the connection between your DataFrame and your database has been established, you can leverage all of Lux's visual recommendation tools. For a more in-depth look at Lux's functions, check out the main repository [here](https://github.com/lux-org/lux)."
   ]
  },
  {
   "cell_type": "code",
   "execution_count": null,
   "metadata": {},
   "outputs": [],
   "source": [
    "#call the Lux DataFrame to view general variable distributions and relationships.\n",
    "#You will see that the DataFrame contains the columns of your database table, but is otherwise empty.\n",
    "#Data is processed as much as possible on the database end, and is only brought in locally when needed to create visualizations.\n",
    "sql_df"
   ]
  },
  {
   "cell_type": "code",
   "execution_count": null,
   "metadata": {},
   "outputs": [],
   "source": [
    "#you can specify intents just the same as the default Lux system\n",
    "from lux.vis import Clause\n",
    "\n",
    "#here we specify that we are interested in a graph containing the variables 'milespergal' and 'cylinders'\n",
    "#we also specify that we want to apply a filter 'horsepower > 150' to this visualization\n",
    "sql_df.set_intent([\"milespergal\", 'cylinders', Clause(attribute =\"horsepower\", filter_op=\">\", value=150)])\n",
    "sql_df"
   ]
  },
  {
   "cell_type": "markdown",
   "metadata": {},
   "source": [
    "You can also use Lux's Vis package to generate visualizations without having to pull in or process data from your database manually. Instead, you can specify visualization channels and create graphs as shown below."
   ]
  },
  {
   "cell_type": "code",
   "execution_count": null,
   "metadata": {},
   "outputs": [],
   "source": [
    "from lux.vis.Vis import Vis\n",
    "from lux.vis.Vis import Clause\n",
    "\n",
    "#Create a new Lux Clause for each variable you want to use in your graph\n",
    "#Specify how you want to use the variable in the graph via the channel parameter.\n",
    "#The channel parameter will specify whether or not a variable is used on the x or y axis, or used to color datapoints\n",
    "x_clause = Clause(attribute = \"acceleration\", channel = \"x\")\n",
    "y_clause = Clause(attribute = \"milespergal\", channel = \"y\")\n",
    "color_clause = Clause(attribute = 'cylinders', channel = \"color\")\n",
    "\n",
    "#you can also create filters on your data using Lux Clauses like so\n",
    "filter_clause = Clause(attribute =\"origin\", filter_op=\"=\", value='USA')\n",
    "\n",
    "#to create the graph, create a Lux Vis object with the list of your Clauses as the parameter\n",
    "new_vis = Vis([x_clause, y_clause, color_clause, filter_clause])\n",
    "\n",
    "#to fetch the data necessary for the graph, use the refresh_source function.\n",
    "#the refresh_source function takes in a Lux DataFrame, in this case you can specify the one connected to your database table\n",
    "new_vis.refresh_source(sql_df)\n",
    "new_vis"
   ]
  }
 ],
 "metadata": {
  "kernelspec": {
   "display_name": "Python 3",
   "language": "python",
   "name": "python3"
  },
  "language_info": {
   "codemirror_mode": {
    "name": "ipython",
    "version": 3
   },
   "file_extension": ".py",
   "mimetype": "text/x-python",
   "name": "python",
   "nbconvert_exporter": "python",
   "pygments_lexer": "ipython3",
   "version": "3.8.3"
  }
 },
 "nbformat": 4,
 "nbformat_minor": 4
}
